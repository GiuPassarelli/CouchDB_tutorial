{
 "cells": [
  {
   "cell_type": "code",
   "execution_count": 1,
   "metadata": {},
   "outputs": [],
   "source": [
    "import requests\n",
    "import os\n",
    "import json"
   ]
  },
  {
   "cell_type": "code",
   "execution_count": null,
   "metadata": {},
   "outputs": [],
   "source": []
  },
  {
   "cell_type": "markdown",
   "metadata": {},
   "source": [
    "## Parte 4\n",
    "### Popular o seu banco de dados\n",
    "\n",
    "Apos criar o DB acima, devemos saber como trabalhar com os dados dele.  A forma utilizada para guardar esses dados não relacionais são os documentos, que são escritos em formato json. Para organizar os dados, cada documneto tem um id próprio, que pode ser qualquer coisa, mas é recomentdado utilizar o UUID, que inclusive pode ser gerado pela API do próprio couchdb.\n",
    "\n",
    "Antes disso porem, devemos colocar as variáveis abaixo, para podermos acessar corretamente os DBs"
   ]
  },
  {
   "cell_type": "code",
   "execution_count": 65,
   "metadata": {},
   "outputs": [],
   "source": [
    "username = 'francisco'\n",
    "senha = 'Maroav01'\n",
    "ip = '127.0.0.1'\n",
    "porta = '5984'\n",
    "nome_db = \"bas\""
   ]
  },
  {
   "cell_type": "markdown",
   "metadata": {},
   "source": [
    "Para criar um novo documento para popular o banco de dados, vamos primeiro gerar um id para o documento. Faremos isso enviando uma chamada 'GET' no formato a seguir:       \n",
    "'http://< endereco couchdb>:< porta couchdb>/_uuids'\n",
    "    \n",
    " "
   ]
  },
  {
   "cell_type": "code",
   "execution_count": 4,
   "metadata": {},
   "outputs": [
    {
     "data": {
      "text/plain": "'ec61b8937307fa7e895590aae5000c10'"
     },
     "execution_count": 4,
     "metadata": {},
     "output_type": "execute_result"
    }
   ],
   "source": [
    "# Endereço para gerar o ID \n",
    "res = requests.get('http://%s:%s/_uuids' % (ip,porta))\n",
    "res.json()\n",
    "\n",
    "# Salvando o ID gerado\n",
    "uuid = res.json()['uuids'][0]\n",
    "uuid"
   ]
  },
  {
   "cell_type": "markdown",
   "metadata": {},
   "source": [
    "Agora que geramos e salvamos o ID para nosso novo documento, vamos gerar o documento e adicionar ao banco de dados. Para isso vamos colocar em json os dados. Vamos salvar nomes de pessoas e que instrumentos elas tocam no formato a seguir:\n",
    "\n",
    "{\n",
    "\"Key1\" : \"Valor1\",\n",
    "\"Key2\" : \"Valor2\",\n",
    "\"Key3\" : \"Valor3\",\n",
    "...\n",
    "}\n",
    "\n",
    "E enviamos esses dados no *body* da requisição, com o formato a seguir usando **' PUT '** :\n",
    "\n",
    "'http://< usuario >:< senha >@< endereco couchdb>:< porta couchdb>/< nome DB>/< id do documento >'\n"
   ]
  },
  {
   "cell_type": "code",
   "execution_count": 8,
   "metadata": {},
   "outputs": [
    {
     "name": "stdout",
     "output_type": "stream",
     "text": "{'ok': True, 'id': 'ec61b8937307fa7e895590aae5000c10', 'rev': '1-4a3cb778198a80655cfd3f65a9ac53c4'}\n"
    }
   ],
   "source": [
    "# Vamos colocar no banco os dados\n",
    "dados_a_serem_salvos = '{\"Nome\":\"Carlos\",\"Instrumento\":\"Guitarra\"}'\n",
    "\n",
    "res = requests.put('http://%s:%s@%s:%s/%s/%s' % (username,senha,ip,porta,nome_db,uuid),data=dados_a_serem_salvos)\n",
    "print(res.json())"
   ]
  },
  {
   "cell_type": "markdown",
   "metadata": {},
   "source": [
    "Vamos colocar mais alguns dados, para popular o banco"
   ]
  },
  {
   "cell_type": "code",
   "execution_count": 9,
   "metadata": {},
   "outputs": [
    {
     "name": "stdout",
     "output_type": "stream",
     "text": "{'ok': True, 'id': 'ec61b8937307fa7e895590aae50013bc', 'rev': '1-cfb138b570e0c7c98ff31735d996284e'}\n{'ok': True, 'id': 'ec61b8937307fa7e895590aae5001aba', 'rev': '1-cfbb34f9fd12236fd4910489fa44e52e'}\n{'ok': True, 'id': 'ec61b8937307fa7e895590aae5002164', 'rev': '1-dc95a46d02f715a00dcba69c0ec80342'}\n"
    }
   ],
   "source": [
    "dados_a_serem_salvos = ['{\"Nome\":\"Pedro\",\"Instrumento\":\"Guitarra\"}','{\"Nome\":\"Magda\",\"Instrumento\":\"Piano\"}','{\"Nome\":\"Jubileu\",\"Instrumento\":\"Saxofone\"}']\n",
    "\n",
    "for i in dados_a_serem_salvos:\n",
    "    \n",
    "    res = requests.get('http://%s:%s/_uuids' % (ip,porta))\n",
    "    # Salvando o ID gerado\n",
    "    uuid = res.json()['uuids'][0]\n",
    "    # Salvando dados\n",
    "    res = requests.put('http://%s:%s@%s:%s/bas/%s' % (username,senha,ip,porta,uuid),data=i)\n",
    "    print(res.json())"
   ]
  },
  {
   "cell_type": "markdown",
   "metadata": {},
   "source": [
    "Para ver os ids de todos os documentos de um DB podemos utilizar a requisição no formato\n",
    "\n",
    "'http://< endereco couchdb>:< porta couchdb >/< nome DB >/_all_docs'\n"
   ]
  },
  {
   "cell_type": "code",
   "execution_count": 10,
   "metadata": {},
   "outputs": [
    {
     "data": {
      "text/plain": "{'total_rows': 4,\n 'offset': 0,\n 'rows': [{'id': 'ec61b8937307fa7e895590aae5000c10',\n   'key': 'ec61b8937307fa7e895590aae5000c10',\n   'value': {'rev': '1-4a3cb778198a80655cfd3f65a9ac53c4'}},\n  {'id': 'ec61b8937307fa7e895590aae50013bc',\n   'key': 'ec61b8937307fa7e895590aae50013bc',\n   'value': {'rev': '1-cfb138b570e0c7c98ff31735d996284e'}},\n  {'id': 'ec61b8937307fa7e895590aae5001aba',\n   'key': 'ec61b8937307fa7e895590aae5001aba',\n   'value': {'rev': '1-cfbb34f9fd12236fd4910489fa44e52e'}},\n  {'id': 'ec61b8937307fa7e895590aae5002164',\n   'key': 'ec61b8937307fa7e895590aae5002164',\n   'value': {'rev': '1-dc95a46d02f715a00dcba69c0ec80342'}}]}"
     },
     "execution_count": 10,
     "metadata": {},
     "output_type": "execute_result"
    }
   ],
   "source": [
    "res = requests.get('http://%s:%s/bas/_all_docs' % (ip,porta))\n",
    "res.json()"
   ]
  },
  {
   "cell_type": "markdown",
   "metadata": {},
   "source": [
    "Vamos fazer uma consulta em um documento específico, para isso basta fazer uma requisição GET no formato : \n",
    "\n",
    "'http://< endereco couchdb>:< porta couchdb >/< nome DB >/< id do documento >'\n",
    "\n"
   ]
  },
  {
   "cell_type": "code",
   "execution_count": 11,
   "metadata": {},
   "outputs": [
    {
     "data": {
      "text/plain": "{'_id': 'ec61b8937307fa7e895590aae5002164',\n '_rev': '1-dc95a46d02f715a00dcba69c0ec80342',\n 'Nome': 'Jubileu',\n 'Instrumento': 'Saxofone'}"
     },
     "execution_count": 11,
     "metadata": {},
     "output_type": "execute_result"
    }
   ],
   "source": [
    "res = requests.get('http://%s:%s/bas/%s' % (ip,porta,uuid))\n",
    "res.json()"
   ]
  },
  {
   "cell_type": "markdown",
   "metadata": {},
   "source": [
    "Para editar um documento, devemos fazer uma revisão do mesmo. Ao fazer uma revisão, carregamos o arquivo insteiro e então alteramos a parte nescessária, e então identificamos tambem o id de revisão, que é um valor chamado '*rev*', o qual deve ser enviado para evitar que no meio tempo que o doc foi carregado e alterado, outra pessoa tenha alterado ja antes e estejamos sobrescrevendo algo importante.\n",
    "\n",
    "O valor '*rev*' vem junto do documento quando carregado, e ele é alterado a cada revisão feita.\n",
    "Vamos revisar o documento que puxamos no exemplo acima."
   ]
  },
  {
   "cell_type": "code",
   "execution_count": 12,
   "metadata": {},
   "outputs": [
    {
     "data": {
      "text/plain": "{'ok': True,\n 'id': 'ec61b8937307fa7e895590aae5002164',\n 'rev': '2-116e9ac592a7df58a5409b2f85d8506e'}"
     },
     "execution_count": 12,
     "metadata": {},
     "output_type": "execute_result"
    }
   ],
   "source": [
    "rev = res.json()['_rev']\n",
    "\n",
    "nova_alteracao = '{\"Nome\":\"Jose\",\"Instrumento\":\"Saxofone\", \"_rev\":\"%s\"}' % (rev) \n",
    "\n",
    "\n",
    "res1 = requests.put('http://%s:%s@%s:%s/bas/%s' % (username,senha,ip,porta,uuid),data=nova_alteracao)\n",
    "\n",
    "res1.json()"
   ]
  },
  {
   "cell_type": "markdown",
   "metadata": {},
   "source": [
    "Uma vez que a revisão é feita o sistema gera um novo valor para rev e o retorna para o usuário. Agora podemos tambem apagar lógicamente um documento. Nese caso o formato do requisição \"**DELETE**\" é:\n",
    "\n",
    "'http://< usuario >:< senha >@< endereco couchdb>:< porta couchdb >/< nome DB >/< id do documento >?rev=< valor rev do documento >'\n",
    "\n",
    "Vamos testar isso apagando o arquivo que acabamos de alterar. "
   ]
  },
  {
   "cell_type": "code",
   "execution_count": 13,
   "metadata": {},
   "outputs": [
    {
     "data": {
      "text/plain": "{'ok': True,\n 'id': 'ec61b8937307fa7e895590aae5002164',\n 'rev': '3-b6553ccb034664771b3288ca5c48dee2'}"
     },
     "execution_count": 13,
     "metadata": {},
     "output_type": "execute_result"
    }
   ],
   "source": [
    "rev = res1.json()['rev']\n",
    "json_delete = '{\"_rev\":\"%s\"}' % (rev)\n",
    "res1 = requests.delete('http://%s:%s@%s:%s/bas/%s?rev=%s' % (username,senha,ip,porta,uuid,rev))\n",
    "res1.json()"
   ]
  },
  {
   "cell_type": "markdown",
   "metadata": {},
   "source": [
    "Assim podemos ver que se fizermos a requisição para ver o documento o resultado retorna que os dados não foram encontrados pois foram apagados."
   ]
  },
  {
   "cell_type": "code",
   "execution_count": 14,
   "metadata": {},
   "outputs": [
    {
     "data": {
      "text/plain": "{'error': 'not_found', 'reason': 'deleted'}"
     },
     "execution_count": 14,
     "metadata": {},
     "output_type": "execute_result"
    }
   ],
   "source": [
    "res = requests.get('http://%s:%s/bas/%s' % (ip,porta,uuid))\n",
    "res.json()"
   ]
  },
  {
   "cell_type": "markdown",
   "metadata": {},
   "source": [
    "## Parte 5\n",
    "### Map Reduce\n",
    "\n",
    "O mapreduce são mapas e funções reduces predefinidas e programadas em javascript, que serverm para selecionar os dados requeridos dos documentos sem se preocupar com a formatação de cada documento, facilitando a busca quando o DB for bastante variado. \n",
    "\n",
    "Para criar uma view, que é como se chamam essas funções do couchdb, é preciso criar um documento que irá conter todos os views criados. O formato do requerimento **' PUT '** é:\n",
    "\n",
    "'http://< usuario >:< senha >@< endereco couchdb>:< porta couchdb >/< nome DB >/_design/< nome do documento de views >'\n",
    "\n",
    "E a função é enviada em um json com o seguinte formato:\n",
    "\n",
    "{\"views\": {\"< Nome da View >\": {\"map\": \"< Função javascript do view >\"}},\"language\": \"javascript\"}\n",
    "\n",
    "No caso atual, vamos criar uma view para puxar os nomes de todos os docs.\n",
    "\n",
    "*function(doc) {emit(doc.Nome);}*\n",
    "\n",
    "A função em javascript recebe em *doc* todos os dados de cada documento, e a função *emit* é utilizada para enviar os dados quando ocorre a requisição \n",
    "\n"
   ]
  },
  {
   "cell_type": "code",
   "execution_count": 15,
   "metadata": {},
   "outputs": [
    {
     "name": "stdout",
     "output_type": "stream",
     "text": "{'ok': True, 'id': '_design/doc_view', 'rev': '1-5d2b78f81a263e4b9b20c3a8794d4936'}\n"
    }
   ],
   "source": [
    "\n",
    "jj = {\"views\": {\"new-view\": {\"map\": \"function(doc) {\\n  var key;\\n  var instrumentos = {};\\n  \\n    emit(0,doc.Nome)\\n  \\n \\n}\"}},\"language\": \"javascript\"}\n",
    "\n",
    "\n",
    "res = requests.put('http://%s:%s@%s:%s/bas/_design/doc_view' % (username,senha,ip,porta),data=json.dumps(jj))\n",
    "print(res.json())"
   ]
  },
  {
   "cell_type": "markdown",
   "metadata": {},
   "source": [
    "Para ver o resultado do view, é so fazer uma requisição **' GET '** com o formato a seguir:\n",
    "\n",
    "'http://< endereco couchdb>:< porta couchdb >/< nome DB >/_design/< nome do documento de views >/view/< Nome do view >'"
   ]
  },
  {
   "cell_type": "code",
   "execution_count": 16,
   "metadata": {},
   "outputs": [
    {
     "data": {
      "text/plain": "{'total_rows': 3,\n 'offset': 0,\n 'rows': [{'id': 'ec61b8937307fa7e895590aae5000c10',\n   'key': 0,\n   'value': 'Carlos'},\n  {'id': 'ec61b8937307fa7e895590aae50013bc', 'key': 0, 'value': 'Pedro'},\n  {'id': 'ec61b8937307fa7e895590aae5001aba', 'key': 0, 'value': 'Magda'}]}"
     },
     "execution_count": 16,
     "metadata": {},
     "output_type": "execute_result"
    }
   ],
   "source": [
    "res = requests.get('http://%s:%s@%s:%s/bas/_design/doc_view/_view/new-view' % (username,senha,ip,porta))\n",
    "res.json()"
   ]
  },
  {
   "cell_type": "markdown",
   "metadata": {},
   "source": [
    "## Parte 6\n",
    "### Replicação local\n",
    "\n",
    "Replicação é criar uma cópia do DB que pode ser sincronizado constantemente. Inicialmente faremos uma replicação local para demonstração. O formato da requisição é:\n",
    "\n",
    "'http://< usuario >:< senha >@< endereco couchdb>:< porta couchdb >/_replicate'\n",
    "\n",
    "E o formato dos dados a serem enviados juntos é:\n",
    "\n",
    "\n",
    "{\"source\": \"< endereco do DB a ser replicado >\", \n",
    "\n",
    "\"target\": \"< endereço a receber os dados >\", \n",
    "\n",
    "\"create_target\": < booleano para definir se precisa criar o DB target >, \n",
    "\n",
    "\"continuous\": < booleano para definir se a replicação manterá os DBs sincronizados >} '\n",
    "\n",
    "\n"
   ]
  },
  {
   "cell_type": "code",
   "execution_count": 51,
   "metadata": {},
   "outputs": [
    {
     "data": {
      "text/plain": "{'ok': True,\n '_local_id': '4bc9402ccfa7c29936498ecfd765fd5f+continuous+create_target'}"
     },
     "execution_count": 51,
     "metadata": {},
     "output_type": "execute_result"
    }
   ],
   "source": [
    "json_data = json.dumps({\"source\": \"%s:%s@%s:%s/bas\" % (username,senha,ip,porta), \"target\": \"http://%s:%s@%s:%s/bas2\" % (username,senha,ip,porta), \"create_target\": True, \"continuous\": True})\n",
    "headers = {'content-type': 'application/json'}\n",
    "res = requests.post(\"http://%s:%s@%s:%s/_replicate\" % (username,senha,ip,porta), data = json_data, headers=headers)\n",
    "res.json()"
   ]
  },
  {
   "cell_type": "markdown",
   "execution_count": null,
   "metadata": {},
   "outputs": [],
   "source": [
    "No caso da replicação acima, a replicação acima so funciona em uma diração, fazendo com que o novo DB que criamos seja somente para backup. Para fazer com que os DBs estejam totalmente sincronizados seria preciso criar mais uma ação de replicação para fazer o caminho inverso. "
   ]
  },
  {
   "cell_type": "code",
   "execution_count": 62,
   "metadata": {},
   "outputs": [
    {
     "data": {
      "text/plain": "{'ok': True, '_local_id': 'b4e46774149d961407f40429b7d9083e+continuous'}"
     },
     "execution_count": 62,
     "metadata": {},
     "output_type": "execute_result"
    }
   ],
   "source": [
    "json_data = json.dumps({\"source\": \"%s:%s@%s:%s/bas2\" % (username,senha,ip,porta), \"target\": \"http://%s:%s@%s:%s/bas\" % (username,senha,ip,porta), \"create_target\": False, \"continuous\": True})\n",
    "headers = {'content-type': 'application/json'}\n",
    "res = requests.post(\"http://%s:%s@%s:%s/_replicate\" % (username,senha,ip,porta),data = json_data,headers=headers)\n",
    "res.json()"
   ]
  },
  {
   "cell_type": "markdown",
   "execution_count": null,
   "metadata": {},
   "outputs": [],
   "source": [
    "Agora para testar a replicação, vamos colocar um documento novo no DB original, e então verificar a replicação no outro."
   ]
  },
  {
   "cell_type": "code",
   "execution_count": 63,
   "metadata": {},
   "outputs": [
    {
     "name": "stdout",
     "output_type": "stream",
     "text": "{'ok': True, 'id': 'ec61b8937307fa7e895590aae5005258', 'rev': '1-21451721842b97d2a75bda6c91a14209'}\n"
    }
   ],
   "source": [
    "i = '{\"Nome\":\"Jake\",\"Instrumento\":\"Gaita\"}'\n",
    "\n",
    "res = requests.get('http://%s:%s/_uuids' % (ip,porta))\n",
    "# Salvando o ID gerado\n",
    "uuid = res.json()['uuids'][0]\n",
    "# Salvando dados\n",
    "res = requests.put('http://%s:%s@%s:%s/bas/%s' % (username,senha,ip,porta,uuid),data=i)\n",
    "print(res.json())"
   ]
  },
  {
   "cell_type": "code",
   "execution_count": 64,
   "metadata": {},
   "outputs": [
    {
     "data": {
      "text/plain": "{'total_rows': 7,\n 'offset': 0,\n 'rows': [{'id': 'ec61b8937307fa7e895590aae5000c10',\n   'key': 0,\n   'value': 'Carlos'},\n  {'id': 'ec61b8937307fa7e895590aae50013bc', 'key': 0, 'value': 'Pedro'},\n  {'id': 'ec61b8937307fa7e895590aae5001aba', 'key': 0, 'value': 'Magda'},\n  {'id': 'ec61b8937307fa7e895590aae5002620', 'key': 0, 'value': 'Jske'},\n  {'id': 'ec61b8937307fa7e895590aae5003282', 'key': 0, 'value': 'Jake'},\n  {'id': 'ec61b8937307fa7e895590aae5003f8f', 'key': 0, 'value': 'Jake'},\n  {'id': 'ec61b8937307fa7e895590aae5005258', 'key': 0, 'value': 'Jake'}]}"
     },
     "execution_count": 64,
     "metadata": {},
     "output_type": "execute_result"
    }
   ],
   "source": [
    "res = requests.get('http://%s:%s@%s:%s/bas/_design/doc_view/_view/new-view' % (username,senha,ip,porta))\n",
    "res.json()"
   ]
  },
  {
   "cell_type": "code",
   "execution_count": 53,
   "metadata": {},
   "outputs": [
    {
     "data": {
      "text/plain": "{'total_rows': 6,\n 'offset': 0,\n 'rows': [{'id': 'ec61b8937307fa7e895590aae5000c10',\n   'key': 0,\n   'value': 'Carlos'},\n  {'id': 'ec61b8937307fa7e895590aae50013bc', 'key': 0, 'value': 'Pedro'},\n  {'id': 'ec61b8937307fa7e895590aae5001aba', 'key': 0, 'value': 'Magda'},\n  {'id': 'ec61b8937307fa7e895590aae5002620', 'key': 0, 'value': 'Jske'},\n  {'id': 'ec61b8937307fa7e895590aae5003282', 'key': 0, 'value': 'Jake'},\n  {'id': 'ec61b8937307fa7e895590aae5003f8f', 'key': 0, 'value': 'Jake'}]}"
     },
     "execution_count": 53,
     "metadata": {},
     "output_type": "execute_result"
    }
   ],
   "source": [
    "res = requests.get('http://%s:%s@%s:%s/bas2/_design/doc_view/_view/new-view' % (username,senha,ip,porta))\n",
    "res.json()"
   ]
  },
  {
   "cell_type": "code",
   "execution_count": null,
   "metadata": {},
   "outputs": [],
   "source": []
  }
 ],
 "metadata": {
  "kernelspec": {
   "display_name": "Python 3",
   "language": "python",
   "name": "python3"
  },
  "language_info": {
   "codemirror_mode": {
    "name": "ipython",
    "version": 3
   },
   "file_extension": ".py",
   "mimetype": "text/x-python",
   "name": "python",
   "nbconvert_exporter": "python",
   "pygments_lexer": "ipython3",
   "version": "3.7.4"
  }
 },
 "nbformat": 4,
 "nbformat_minor": 2
}